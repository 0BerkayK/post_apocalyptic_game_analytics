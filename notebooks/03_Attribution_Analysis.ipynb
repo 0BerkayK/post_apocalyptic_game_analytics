{
 "cells": [
  {
   "cell_type": "code",
   "execution_count": 1,
   "id": "efc5cdef-5d54-45a9-9c8f-3b2e0bd117fe",
   "metadata": {},
   "outputs": [],
   "source": [
    "import pandas as pd\n",
    "from datetime import timedelta\n"
   ]
  },
  {
   "cell_type": "code",
   "execution_count": 2,
   "id": "63d7631a-64b5-4250-81a6-93345fef83a1",
   "metadata": {},
   "outputs": [],
   "source": [
    "# Load data\n",
    "users = pd.read_csv(\"../data/users.csv\", parse_dates=[\"registration_date\"])\n",
    "sessions = pd.read_csv(\"../data/sessions.csv\", parse_dates=[\"session_date\"])\n",
    "purchases = pd.read_csv(\"../data/purchases.csv\", parse_dates=[\"purchase_date\"])\n",
    "attribution = pd.read_csv(\"../data/attribution.csv\", parse_dates=[\"install_date\"])"
   ]
  },
  {
   "cell_type": "code",
   "execution_count": 3,
   "id": "ec00262e-871a-4539-a093-95cab2eae9c8",
   "metadata": {},
   "outputs": [],
   "source": [
    "# Merge user-channel info\n",
    "users = users.merge(attribution, on=\"user_id\", how=\"left\")"
   ]
  },
  {
   "cell_type": "code",
   "execution_count": 6,
   "id": "4bce8918-bcc4-4349-a5f2-b9af15f369df",
   "metadata": {},
   "outputs": [],
   "source": [
    "# Calculate ARPU per user\n",
    "rev_per_user = purchases.groupby(\"user_id\")[\"amount_usd\"].sum().reset_index()\n",
    "users = users.merge(rev_per_user, on=\"user_id\", how=\"left\")\n",
    "users[\"amount_usd\"] = users[\"amount_usd\"].fillna(0)  "
   ]
  },
  {
   "cell_type": "code",
   "execution_count": 7,
   "id": "e452c58d-a415-46b9-8b9e-2715cbab79f0",
   "metadata": {},
   "outputs": [],
   "source": [
    "# D1 / D7 Retention hesaplama fonksiyonu\n",
    "def calc_retention(df, days):\n",
    "    retained = []\n",
    "    for _, row in df.iterrows():\n",
    "        user_id = row[\"user_id\"]\n",
    "        reg_date = row[\"registration_date\"]\n",
    "        target_date = reg_date + timedelta(days=days)\n",
    "        if user_id in sessions[sessions[\"session_date\"] == target_date][\"user_id\"].values:\n",
    "            retained.append(1)\n",
    "        else:\n",
    "            retained.append(0)\n",
    "    return retained\n",
    "\n",
    "users[\"D1_retained\"] = calc_retention(users, 1)\n",
    "users[\"D7_retained\"] = calc_retention(users, 7)\n"
   ]
  },
  {
   "cell_type": "code",
   "execution_count": 8,
   "id": "377de6b9-774a-49d7-be5a-fea2ab0fdcbe",
   "metadata": {},
   "outputs": [],
   "source": [
    "# Session count per user\n",
    "session_counts = sessions.groupby(\"user_id\").size().reset_index(name=\"session_count\")\n",
    "users = users.merge(session_counts, on=\"user_id\", how=\"left\")\n",
    "users[\"session_count\"] = users[\"session_count\"].fillna(0)"
   ]
  },
  {
   "cell_type": "code",
   "execution_count": 9,
   "id": "9e374ffb-7c05-4161-975b-84b65f4ee036",
   "metadata": {},
   "outputs": [],
   "source": [
    "# Monetizing user flag\n",
    "users[\"is_payer\"] = users[\"amount_usd\"] > 0"
   ]
  },
  {
   "cell_type": "code",
   "execution_count": 10,
   "id": "d6d76340-0dd6-44ea-a78e-9d2b2f65fa8e",
   "metadata": {},
   "outputs": [],
   "source": [
    "# Kanal bazında özetleme\n",
    "channel_stats = users.groupby(\"acquisition_channel\").agg({\n",
    "    \"user_id\": \"count\",\n",
    "    \"amount_usd\": \"mean\",\n",
    "    \"D1_retained\": \"mean\",\n",
    "    \"D7_retained\": \"mean\",\n",
    "    \"session_count\": \"mean\",\n",
    "    \"is_payer\": \"mean\"\n",
    "}).rename(columns={\n",
    "    \"user_id\": \"user_count\",\n",
    "    \"amount_usd\": \"ARPU\",\n",
    "    \"D1_retained\": \"D1_retention\",\n",
    "    \"D7_retained\": \"D7_retention\",\n",
    "    \"session_count\": \"avg_session\",\n",
    "    \"is_payer\": \"conversion_rate\"\n",
    "})"
   ]
  },
  {
   "cell_type": "code",
   "execution_count": 11,
   "id": "9b47c7e2-2670-4d8c-b2a7-cef58d7e5463",
   "metadata": {},
   "outputs": [
    {
     "name": "stdout",
     "output_type": "stream",
     "text": [
      "  acquisition_channel  user_count   ARPU  D1_retention  D7_retention  \\\n",
      "0        Facebook Ads        2039  2.644         0.693         0.456   \n",
      "1          Google Ads        1515  2.611         0.711         0.426   \n",
      "2          TikTok Ads         953  2.864         0.718         0.466   \n",
      "3           Unity Ads         493  3.352         0.718         0.450   \n",
      "\n",
      "   avg_session  conversion_rate  \n",
      "0       12.757            0.242  \n",
      "1       12.396            0.231  \n",
      "2       12.827            0.256  \n",
      "3       12.552            0.266  \n"
     ]
    }
   ],
   "source": [
    "channel_stats = channel_stats.round(3)\n",
    "print(channel_stats.reset_index())"
   ]
  },
  {
   "cell_type": "code",
   "execution_count": null,
   "id": "cae54ac0-f7d5-4880-a986-536ceb3d952f",
   "metadata": {},
   "outputs": [],
   "source": []
  }
 ],
 "metadata": {
  "kernelspec": {
   "display_name": "Python 3 (ipykernel)",
   "language": "python",
   "name": "python3"
  },
  "language_info": {
   "codemirror_mode": {
    "name": "ipython",
    "version": 3
   },
   "file_extension": ".py",
   "mimetype": "text/x-python",
   "name": "python",
   "nbconvert_exporter": "python",
   "pygments_lexer": "ipython3",
   "version": "3.12.7"
  }
 },
 "nbformat": 4,
 "nbformat_minor": 5
}
