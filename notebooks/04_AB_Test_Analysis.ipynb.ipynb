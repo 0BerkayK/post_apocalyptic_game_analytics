{
 "cells": [
  {
   "cell_type": "code",
   "execution_count": 2,
   "id": "db4ece32-30a1-4851-8018-c562e06c853a",
   "metadata": {},
   "outputs": [],
   "source": [
    "import pandas as pd\n",
    "import matplotlib.pyplot as plt\n",
    "import seaborn as sns\n",
    "import sys\n",
    "import os\n",
    "sys.path.append(os.path.abspath(\"..\"))\n",
    "\n",
    "\n",
    "from scripts.ab_test_helper import (\n",
    "    calculate_metric,\n",
    "    t_test,\n",
    "    mann_whitney_test,\n",
    "    chi_square_test,\n",
    "    summarize_test_result\n",
    ")\n"
   ]
  },
  {
   "cell_type": "code",
   "execution_count": 3,
   "id": "a337e7ca-1b01-4fc4-be1e-a8806d280f51",
   "metadata": {},
   "outputs": [
    {
     "data": {
      "text/html": [
       "<div>\n",
       "<style scoped>\n",
       "    .dataframe tbody tr th:only-of-type {\n",
       "        vertical-align: middle;\n",
       "    }\n",
       "\n",
       "    .dataframe tbody tr th {\n",
       "        vertical-align: top;\n",
       "    }\n",
       "\n",
       "    .dataframe thead th {\n",
       "        text-align: right;\n",
       "    }\n",
       "</style>\n",
       "<table border=\"1\" class=\"dataframe\">\n",
       "  <thead>\n",
       "    <tr style=\"text-align: right;\">\n",
       "      <th></th>\n",
       "      <th>user_id</th>\n",
       "      <th>group</th>\n",
       "      <th>clicked_special_offer</th>\n",
       "    </tr>\n",
       "  </thead>\n",
       "  <tbody>\n",
       "    <tr>\n",
       "      <th>0</th>\n",
       "      <td>user_1</td>\n",
       "      <td>treatment</td>\n",
       "      <td>0</td>\n",
       "    </tr>\n",
       "    <tr>\n",
       "      <th>1</th>\n",
       "      <td>user_2</td>\n",
       "      <td>control</td>\n",
       "      <td>0</td>\n",
       "    </tr>\n",
       "    <tr>\n",
       "      <th>2</th>\n",
       "      <td>user_3</td>\n",
       "      <td>treatment</td>\n",
       "      <td>0</td>\n",
       "    </tr>\n",
       "    <tr>\n",
       "      <th>3</th>\n",
       "      <td>user_4</td>\n",
       "      <td>treatment</td>\n",
       "      <td>0</td>\n",
       "    </tr>\n",
       "    <tr>\n",
       "      <th>4</th>\n",
       "      <td>user_5</td>\n",
       "      <td>control</td>\n",
       "      <td>0</td>\n",
       "    </tr>\n",
       "  </tbody>\n",
       "</table>\n",
       "</div>"
      ],
      "text/plain": [
       "  user_id      group  clicked_special_offer\n",
       "0  user_1  treatment                      0\n",
       "1  user_2    control                      0\n",
       "2  user_3  treatment                      0\n",
       "3  user_4  treatment                      0\n",
       "4  user_5    control                      0"
      ]
     },
     "execution_count": 3,
     "metadata": {},
     "output_type": "execute_result"
    }
   ],
   "source": [
    "ab_data = pd.read_csv(\"../data/ab_test.csv\")\n",
    "ab_data.head()\n"
   ]
  },
  {
   "cell_type": "code",
   "execution_count": 5,
   "id": "ca7adb63-0767-49db-a0ec-7b483bcff9a0",
   "metadata": {},
   "outputs": [
    {
     "name": "stdout",
     "output_type": "stream",
     "text": [
      "📊 Clicked Special Offer farkı testi: p-value: 0.0000 → Significant (α = 0.05)\n",
      "\n",
      "Grupların Clicked Special Offer oranları:\n",
      " group\n",
      "control      0.075403\n",
      "treatment    0.124206\n",
      "Name: clicked_special_offer, dtype: float64\n"
     ]
    }
   ],
   "source": [
    "import pandas as pd\n",
    "from scripts.ab_test_helper import chi_square_test, summarize_test_result\n",
    "\n",
    "ab_data = pd.read_csv(\"../data/ab_test.csv\")\n",
    "\n",
    "# Tıklama oranı (converted yerine clicked_special_offer kullanıyoruz)\n",
    "chi_result = chi_square_test(ab_data, \"clicked_special_offer\")\n",
    "print(\"📊 Clicked Special Offer farkı testi:\", summarize_test_result(chi_result))\n",
    "\n",
    "# Grupların tıklama oranı\n",
    "click_rates = ab_data.groupby(\"group\")[\"clicked_special_offer\"].mean()\n",
    "print(\"\\nGrupların Clicked Special Offer oranları:\\n\", click_rates)\n"
   ]
  },
  {
   "cell_type": "code",
   "execution_count": null,
   "id": "86e0972c-f6a8-42ef-aa38-3592c87d02a0",
   "metadata": {},
   "outputs": [],
   "source": []
  }
 ],
 "metadata": {
  "kernelspec": {
   "display_name": "Python 3 (ipykernel)",
   "language": "python",
   "name": "python3"
  },
  "language_info": {
   "codemirror_mode": {
    "name": "ipython",
    "version": 3
   },
   "file_extension": ".py",
   "mimetype": "text/x-python",
   "name": "python",
   "nbconvert_exporter": "python",
   "pygments_lexer": "ipython3",
   "version": "3.12.7"
  }
 },
 "nbformat": 4,
 "nbformat_minor": 5
}
